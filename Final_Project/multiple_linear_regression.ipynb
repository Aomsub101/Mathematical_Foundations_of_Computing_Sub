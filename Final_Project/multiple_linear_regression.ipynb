{
 "cells": [
  {
   "cell_type": "markdown",
   "metadata": {},
   "source": [
    "# <span style=\"color:pink\">**Car Price Prediction with Linear Regression**</span>"
   ]
  },
  {
   "cell_type": "markdown",
   "metadata": {},
   "source": [
    "## **Libraries**"
   ]
  },
  {
   "cell_type": "code",
   "execution_count": 20,
   "metadata": {},
   "outputs": [],
   "source": [
    "import pandas as pd\n",
    "import numpy as np\n",
    "import matplotlib.pyplot as plt"
   ]
  },
  {
   "cell_type": "markdown",
   "metadata": {},
   "source": [
    "\n",
    "## **Reading data**"
   ]
  },
  {
   "cell_type": "code",
   "execution_count": 21,
   "metadata": {},
   "outputs": [
    {
     "data": {
      "text/html": [
       "<div>\n",
       "<style scoped>\n",
       "    .dataframe tbody tr th:only-of-type {\n",
       "        vertical-align: middle;\n",
       "    }\n",
       "\n",
       "    .dataframe tbody tr th {\n",
       "        vertical-align: top;\n",
       "    }\n",
       "\n",
       "    .dataframe thead th {\n",
       "        text-align: right;\n",
       "    }\n",
       "</style>\n",
       "<table border=\"1\" class=\"dataframe\">\n",
       "  <thead>\n",
       "    <tr style=\"text-align: right;\">\n",
       "      <th></th>\n",
       "      <th>car_ID</th>\n",
       "      <th>symboling</th>\n",
       "      <th>CarName</th>\n",
       "      <th>fueltype</th>\n",
       "      <th>aspiration</th>\n",
       "      <th>doornumber</th>\n",
       "      <th>carbody</th>\n",
       "      <th>drivewheel</th>\n",
       "      <th>enginelocation</th>\n",
       "      <th>wheelbase</th>\n",
       "      <th>...</th>\n",
       "      <th>enginesize</th>\n",
       "      <th>fuelsystem</th>\n",
       "      <th>boreratio</th>\n",
       "      <th>stroke</th>\n",
       "      <th>compressionratio</th>\n",
       "      <th>horsepower</th>\n",
       "      <th>peakrpm</th>\n",
       "      <th>citympg</th>\n",
       "      <th>highwaympg</th>\n",
       "      <th>price</th>\n",
       "    </tr>\n",
       "  </thead>\n",
       "  <tbody>\n",
       "    <tr>\n",
       "      <th>0</th>\n",
       "      <td>1</td>\n",
       "      <td>3</td>\n",
       "      <td>alfa-romero giulia</td>\n",
       "      <td>gas</td>\n",
       "      <td>std</td>\n",
       "      <td>two</td>\n",
       "      <td>convertible</td>\n",
       "      <td>rwd</td>\n",
       "      <td>front</td>\n",
       "      <td>88.6</td>\n",
       "      <td>...</td>\n",
       "      <td>130</td>\n",
       "      <td>mpfi</td>\n",
       "      <td>3.47</td>\n",
       "      <td>2.68</td>\n",
       "      <td>9.0</td>\n",
       "      <td>111</td>\n",
       "      <td>5000</td>\n",
       "      <td>21</td>\n",
       "      <td>27</td>\n",
       "      <td>13495.0</td>\n",
       "    </tr>\n",
       "    <tr>\n",
       "      <th>1</th>\n",
       "      <td>2</td>\n",
       "      <td>3</td>\n",
       "      <td>alfa-romero stelvio</td>\n",
       "      <td>gas</td>\n",
       "      <td>std</td>\n",
       "      <td>two</td>\n",
       "      <td>convertible</td>\n",
       "      <td>rwd</td>\n",
       "      <td>front</td>\n",
       "      <td>88.6</td>\n",
       "      <td>...</td>\n",
       "      <td>130</td>\n",
       "      <td>mpfi</td>\n",
       "      <td>3.47</td>\n",
       "      <td>2.68</td>\n",
       "      <td>9.0</td>\n",
       "      <td>111</td>\n",
       "      <td>5000</td>\n",
       "      <td>21</td>\n",
       "      <td>27</td>\n",
       "      <td>16500.0</td>\n",
       "    </tr>\n",
       "    <tr>\n",
       "      <th>2</th>\n",
       "      <td>3</td>\n",
       "      <td>1</td>\n",
       "      <td>alfa-romero Quadrifoglio</td>\n",
       "      <td>gas</td>\n",
       "      <td>std</td>\n",
       "      <td>two</td>\n",
       "      <td>hatchback</td>\n",
       "      <td>rwd</td>\n",
       "      <td>front</td>\n",
       "      <td>94.5</td>\n",
       "      <td>...</td>\n",
       "      <td>152</td>\n",
       "      <td>mpfi</td>\n",
       "      <td>2.68</td>\n",
       "      <td>3.47</td>\n",
       "      <td>9.0</td>\n",
       "      <td>154</td>\n",
       "      <td>5000</td>\n",
       "      <td>19</td>\n",
       "      <td>26</td>\n",
       "      <td>16500.0</td>\n",
       "    </tr>\n",
       "    <tr>\n",
       "      <th>3</th>\n",
       "      <td>4</td>\n",
       "      <td>2</td>\n",
       "      <td>audi 100 ls</td>\n",
       "      <td>gas</td>\n",
       "      <td>std</td>\n",
       "      <td>four</td>\n",
       "      <td>sedan</td>\n",
       "      <td>fwd</td>\n",
       "      <td>front</td>\n",
       "      <td>99.8</td>\n",
       "      <td>...</td>\n",
       "      <td>109</td>\n",
       "      <td>mpfi</td>\n",
       "      <td>3.19</td>\n",
       "      <td>3.40</td>\n",
       "      <td>10.0</td>\n",
       "      <td>102</td>\n",
       "      <td>5500</td>\n",
       "      <td>24</td>\n",
       "      <td>30</td>\n",
       "      <td>13950.0</td>\n",
       "    </tr>\n",
       "    <tr>\n",
       "      <th>4</th>\n",
       "      <td>5</td>\n",
       "      <td>2</td>\n",
       "      <td>audi 100ls</td>\n",
       "      <td>gas</td>\n",
       "      <td>std</td>\n",
       "      <td>four</td>\n",
       "      <td>sedan</td>\n",
       "      <td>4wd</td>\n",
       "      <td>front</td>\n",
       "      <td>99.4</td>\n",
       "      <td>...</td>\n",
       "      <td>136</td>\n",
       "      <td>mpfi</td>\n",
       "      <td>3.19</td>\n",
       "      <td>3.40</td>\n",
       "      <td>8.0</td>\n",
       "      <td>115</td>\n",
       "      <td>5500</td>\n",
       "      <td>18</td>\n",
       "      <td>22</td>\n",
       "      <td>17450.0</td>\n",
       "    </tr>\n",
       "  </tbody>\n",
       "</table>\n",
       "<p>5 rows × 26 columns</p>\n",
       "</div>"
      ],
      "text/plain": [
       "   car_ID  symboling                   CarName fueltype aspiration doornumber  \\\n",
       "0       1          3        alfa-romero giulia      gas        std        two   \n",
       "1       2          3       alfa-romero stelvio      gas        std        two   \n",
       "2       3          1  alfa-romero Quadrifoglio      gas        std        two   \n",
       "3       4          2               audi 100 ls      gas        std       four   \n",
       "4       5          2                audi 100ls      gas        std       four   \n",
       "\n",
       "       carbody drivewheel enginelocation  wheelbase  ...  enginesize  \\\n",
       "0  convertible        rwd          front       88.6  ...         130   \n",
       "1  convertible        rwd          front       88.6  ...         130   \n",
       "2    hatchback        rwd          front       94.5  ...         152   \n",
       "3        sedan        fwd          front       99.8  ...         109   \n",
       "4        sedan        4wd          front       99.4  ...         136   \n",
       "\n",
       "   fuelsystem  boreratio  stroke compressionratio horsepower  peakrpm citympg  \\\n",
       "0        mpfi       3.47    2.68              9.0        111     5000      21   \n",
       "1        mpfi       3.47    2.68              9.0        111     5000      21   \n",
       "2        mpfi       2.68    3.47              9.0        154     5000      19   \n",
       "3        mpfi       3.19    3.40             10.0        102     5500      24   \n",
       "4        mpfi       3.19    3.40              8.0        115     5500      18   \n",
       "\n",
       "   highwaympg    price  \n",
       "0          27  13495.0  \n",
       "1          27  16500.0  \n",
       "2          26  16500.0  \n",
       "3          30  13950.0  \n",
       "4          22  17450.0  \n",
       "\n",
       "[5 rows x 26 columns]"
      ]
     },
     "execution_count": 21,
     "metadata": {},
     "output_type": "execute_result"
    }
   ],
   "source": [
    "df = pd.read_csv('../Final_Project/CarPrice_Assignment.csv')\n",
    "df.head()"
   ]
  },
  {
   "cell_type": "markdown",
   "metadata": {},
   "source": [
    "\n",
    "## **Set features and target**"
   ]
  },
  {
   "cell_type": "code",
   "execution_count": 22,
   "metadata": {},
   "outputs": [
    {
     "name": "stdout",
     "output_type": "stream",
     "text": [
      "   enginesize  horsepower  citympg  highwaympg fueltype\n",
      "0         130         111       21          27      gas\n",
      "1         130         111       21          27      gas\n",
      "2         152         154       19          26      gas\n",
      "3         109         102       24          30      gas\n",
      "4         136         115       18          22      gas\n",
      "****************************************************************************************************\n",
      "0    13495.0\n",
      "1    16500.0\n",
      "2    16500.0\n",
      "3    13950.0\n",
      "4    17450.0\n",
      "Name: price, dtype: float64\n"
     ]
    }
   ],
   "source": [
    "features = df[[\"enginesize\", \"horsepower\", \"citympg\", \"highwaympg\", \"fueltype\"]].copy()\n",
    "target = df[\"price\"].copy()\n",
    "print(features.head())\n",
    "print(\"*\" * 100)\n",
    "print(target.head())"
   ]
  },
  {
   "cell_type": "markdown",
   "metadata": {},
   "source": [
    "\n",
    "## **Convert categorical value to numerical value**"
   ]
  },
  {
   "cell_type": "code",
   "execution_count": 23,
   "metadata": {},
   "outputs": [
    {
     "data": {
      "text/plain": [
       "array(['gas', 'diesel'], dtype=object)"
      ]
     },
     "execution_count": 23,
     "metadata": {},
     "output_type": "execute_result"
    }
   ],
   "source": [
    "features[\"fueltype\"].unique()"
   ]
  },
  {
   "cell_type": "code",
   "execution_count": 24,
   "metadata": {},
   "outputs": [
    {
     "data": {
      "text/plain": [
       "array([0, 1])"
      ]
     },
     "execution_count": 24,
     "metadata": {},
     "output_type": "execute_result"
    }
   ],
   "source": [
    "features[\"fueltype\"] = features[\"fueltype\"].map({\"gas\": 0, \"diesel\": 1}).astype(int)\n",
    "\n",
    "features[\"fueltype\"].unique()"
   ]
  },
  {
   "cell_type": "markdown",
   "metadata": {},
   "source": [
    "\n",
    "## <span style=\"color:yellow\">**Simple Linear regression**</span>"
   ]
  },
  {
   "cell_type": "markdown",
   "metadata": {},
   "source": [
    "### *Normalize x and y to be in a range(0, 1)*"
   ]
  },
  {
   "cell_type": "code",
   "execution_count": 25,
   "metadata": {},
   "outputs": [],
   "source": [
    "def normalize(x, y):\n",
    "    x_min = x.min()\n",
    "    x_max = x.max()\n",
    "    y_min = y.min()\n",
    "    y_max = y.max()\n",
    "\n",
    "    x_scaled = (x - x_min) / (x_max - x_min)\n",
    "    y_scaled = (y - y_min) / (y_max - y_min)\n",
    "\n",
    "    return x_scaled, y_scaled, x_max, x_min, y_max, y_min"
   ]
  },
  {
   "cell_type": "markdown",
   "metadata": {},
   "source": [
    "### *Gradient Descent Algorithm*"
   ]
  },
  {
   "cell_type": "code",
   "execution_count": 26,
   "metadata": {},
   "outputs": [],
   "source": [
    "def gradient_descent(x_scaled, y_scaled):\n",
    "    w = 0\n",
    "    b = 0\n",
    "    learning_rate = 0.2\n",
    "    eps = 1e-10\n",
    "    epochs = 10000\n",
    "    samples = len(x_scaled)\n",
    "    it = 0\n",
    "    error_history = []\n",
    "    for _ in range(epochs):\n",
    "        y_pred = w * x_scaled + b\n",
    "        error = (y_scaled - y_pred)\n",
    "\n",
    "        dw = -np.sum(error * x_scaled) / samples\n",
    "        db = -np.sum(error) / samples\n",
    "\n",
    "        if abs(learning_rate * dw) < eps and abs(learning_rate * db) < eps:\n",
    "            break\n",
    "\n",
    "        w -= learning_rate * dw\n",
    "        b -= learning_rate * db\n",
    "\n",
    "        # print(w)\n",
    "        # print(b)\n",
    "\n",
    "        sum_error = (1/(2*samples)) * np.sum(error ** 2)\n",
    "        error_history.append(sum_error)\n",
    "        it += 1\n",
    "\n",
    "    return w, b, it, error_history"
   ]
  },
  {
   "cell_type": "markdown",
   "metadata": {},
   "source": [
    "### *Convert weight and bias to original scale*"
   ]
  },
  {
   "cell_type": "code",
   "execution_count": 27,
   "metadata": {},
   "outputs": [],
   "source": [
    "def convert_to_original_scale(w, b, x_max, x_min, y_max, y_min):\n",
    "    w_convert = w * (y_max - y_min)/(x_max - x_min)\n",
    "    b_convert = (y_max - y_min) * b - w_convert * x_min + y_min\n",
    "\n",
    "    return w_convert, b_convert"
   ]
  },
  {
   "cell_type": "markdown",
   "metadata": {},
   "source": [
    "### *Simple linear regression on each feature*"
   ]
  },
  {
   "cell_type": "code",
   "execution_count": 28,
   "metadata": {},
   "outputs": [
    {
     "name": "stdout",
     "output_type": "stream",
     "text": [
      "****************************************************************************************************\n",
      "Features: enginesize\n",
      "R-squared (R2): 0.764\n",
      "MSE: 14980261.406\n",
      "Scaled w: 1.103224255829472\n",
      "Scaled b: -0.07183957870629781\n",
      "True w: 167.69841310687846\n",
      "True b: -8005.4451089666745\n"
     ]
    },
    {
     "data": {
      "image/png": "[encoded data removed]",
      "text/plain": [
       "<Figure size 400x400 with 1 Axes>"
      ]
     },
     "metadata": {},
     "output_type": "display_data"
    },
    {
     "name": "stdout",
     "output_type": "stream",
     "text": [
      "****************************************************************************************************\n",
      "Features: horsepower\n",
      "R-squared (R2): 0.653\n",
      "MSE: 22032509.702\n",
      "Scaled w: 0.9727206654898997\n",
      "Scaled b: -0.02490279477938499\n",
      "True w: 163.2630576969339\n",
      "True b: -3721.7611487560134\n"
     ]
    },
    {
     "data": {
      "image/png": "[encoded data removed]",
      "text/plain": [
       "<Figure size 400x400 with 1 Axes>"
      ]
     },
     "metadata": {},
     "output_type": "display_data"
    },
    {
     "name": "stdout",
     "output_type": "stream",
     "text": [
      "****************************************************************************************************\n",
      "Features: citympg\n",
      "R-squared (R2): 0.470\n",
      "MSE: 33644342.550\n",
      "Scaled w: -0.7483806990188507\n",
      "Scaled b: 0.4565633880443092\n",
      "True w: -837.3964254965929\n",
      "True b: 34395.439928656575\n"
     ]
    },
    {
     "data": {
      "image/png": "[encoded data removed]",
      "text/plain": [
       "<Figure size 400x400 with 1 Axes>"
      ]
     },
     "metadata": {},
     "output_type": "display_data"
    },
    {
     "name": "stdout",
     "output_type": "stream",
     "text": [
      "****************************************************************************************************\n",
      "Features: highwaympg\n",
      "R-squared (R2): 0.487\n",
      "MSE: 32603432.049\n",
      "Scaled w: -0.763427669015425\n",
      "Scaled b: 0.49889483510282867\n",
      "True w: -809.2735095599829\n",
      "True b: 38162.85790057187\n"
     ]
    },
    {
     "data": {
      "image/png": "[encoded data removed]",
      "text/plain": [
       "<Figure size 400x400 with 1 Axes>"
      ]
     },
     "metadata": {},
     "output_type": "display_data"
    },
    {
     "name": "stdout",
     "output_type": "stream",
     "text": [
      "****************************************************************************************************\n",
      "Features: fueltype\n",
      "R-squared (R2): 0.011\n",
      "MSE: 62801141.647\n",
      "Scaled w: 0.07046203191417505\n",
      "Scaled b: 0.19566551374378527\n",
      "True w: 2838.3515695667993\n",
      "True b: 12999.798224627159\n"
     ]
    },
    {
     "data": {
      "image/png": "[encoded data removed]",
      "text/plain": [
       "<Figure size 400x400 with 1 Axes>"
      ]
     },
     "metadata": {},
     "output_type": "display_data"
    }
   ],
   "source": [
    "R2s = []\n",
    "MSEs = []\n",
    "\n",
    "for feature in features:\n",
    "    x = features[feature].values\n",
    "    y = target.values\n",
    "    \n",
    "    x_scaled, y_scaled, x_max, x_min, y_max, y_min = normalize(x, y)\n",
    "    w_scaled, b_scaled, it, error_history = gradient_descent(x_scaled, y_scaled)\n",
    "\n",
    "    true_w, true_b = convert_to_original_scale(w_scaled, b_scaled, x_max, x_min, y_max, y_min)\n",
    "\n",
    "    # Measure performance\n",
    "    # - Note: R^2 = (sum(actual - predict)^2) / (sum(actual - mean) ** 2)\n",
    "    # - Note: MSE = (sum(actual - predict) ** 2) / samples\n",
    "    y_pred = true_w * x + true_b\n",
    "    MSE = np.mean((y - y_pred) ** 2)\n",
    "    R2 = 1 - (np.sum((y - y_pred) ** 2) / np.sum((y - np.mean(y)) ** 2))\n",
    "\n",
    "    MSEs.append(MSE)\n",
    "    R2s.append(R2)\n",
    "\n",
    "    print(\"*\"*100)\n",
    "    print(f\"Features: {feature}\")\n",
    "    print(f\"R-squared (R2): {R2:.3f}\")\n",
    "    print(f\"MSE: {MSE:.3f}\")\n",
    "    print(f\"Scaled w: {w_scaled}\")\n",
    "    print(f\"Scaled b: {b_scaled}\")\n",
    "    print(f\"True w: {true_w}\")\n",
    "    print(f\"True b: {true_b}\")\n",
    "\n",
    "    x_plot = np.linspace(x_min, x_max, 100)\n",
    "    \n",
    "    plt.figure(figsize=(4,4))\n",
    "    plt.scatter(x, y, label=\"Data points\")\n",
    "    plt.plot(x_plot, true_w * x_plot + true_b, label=\"Regression line\", color=\"red\")\n",
    "    plt.xlabel(feature)\n",
    "    plt.ylabel(\"price\")\n",
    "    plt.legend()\n",
    "    plt.show()\n",
    "\n"
   ]
  },
  {
   "cell_type": "markdown",
   "metadata": {},
   "source": [
    "\n",
    "## <span style=\"color:Aqua\">**Multiple linear regression**</span>"
   ]
  },
  {
   "cell_type": "code",
   "execution_count": 29,
   "metadata": {},
   "outputs": [
    {
     "data": {
      "text/html": [
       "<div>\n",
       "<style scoped>\n",
       "    .dataframe tbody tr th:only-of-type {\n",
       "        vertical-align: middle;\n",
       "    }\n",
       "\n",
       "    .dataframe tbody tr th {\n",
       "        vertical-align: top;\n",
       "    }\n",
       "\n",
       "    .dataframe thead th {\n",
       "        text-align: right;\n",
       "    }\n",
       "</style>\n",
       "<table border=\"1\" class=\"dataframe\">\n",
       "  <thead>\n",
       "    <tr style=\"text-align: right;\">\n",
       "      <th></th>\n",
       "      <th>enginesize</th>\n",
       "      <th>horsepower</th>\n",
       "      <th>citympg</th>\n",
       "      <th>highwaympg</th>\n",
       "      <th>fueltype</th>\n",
       "    </tr>\n",
       "  </thead>\n",
       "  <tbody>\n",
       "    <tr>\n",
       "      <th>0</th>\n",
       "      <td>130</td>\n",
       "      <td>111</td>\n",
       "      <td>21</td>\n",
       "      <td>27</td>\n",
       "      <td>0</td>\n",
       "    </tr>\n",
       "    <tr>\n",
       "      <th>1</th>\n",
       "      <td>130</td>\n",
       "      <td>111</td>\n",
       "      <td>21</td>\n",
       "      <td>27</td>\n",
       "      <td>0</td>\n",
       "    </tr>\n",
       "    <tr>\n",
       "      <th>2</th>\n",
       "      <td>152</td>\n",
       "      <td>154</td>\n",
       "      <td>19</td>\n",
       "      <td>26</td>\n",
       "      <td>0</td>\n",
       "    </tr>\n",
       "    <tr>\n",
       "      <th>3</th>\n",
       "      <td>109</td>\n",
       "      <td>102</td>\n",
       "      <td>24</td>\n",
       "      <td>30</td>\n",
       "      <td>0</td>\n",
       "    </tr>\n",
       "    <tr>\n",
       "      <th>4</th>\n",
       "      <td>136</td>\n",
       "      <td>115</td>\n",
       "      <td>18</td>\n",
       "      <td>22</td>\n",
       "      <td>0</td>\n",
       "    </tr>\n",
       "  </tbody>\n",
       "</table>\n",
       "</div>"
      ],
      "text/plain": [
       "   enginesize  horsepower  citympg  highwaympg  fueltype\n",
       "0         130         111       21          27         0\n",
       "1         130         111       21          27         0\n",
       "2         152         154       19          26         0\n",
       "3         109         102       24          30         0\n",
       "4         136         115       18          22         0"
      ]
     },
     "execution_count": 29,
     "metadata": {},
     "output_type": "execute_result"
    }
   ],
   "source": [
    "features.head()"
   ]
  },
  {
   "cell_type": "code",
   "execution_count": 30,
   "metadata": {},
   "outputs": [
    {
     "name": "stdout",
     "output_type": "stream",
     "text": [
      "multi features value:\n",
      "[[130 111  21  27   0]\n",
      " [130 111  21  27   0]\n",
      " [152 154  19  26   0]\n",
      " [109 102  24  30   0]\n",
      " [136 115  18  22   0]]\n",
      "y-value:\n",
      "[13495. 16500. 16500. 13950. 17450.]\n"
     ]
    }
   ],
   "source": [
    "x_multi = features.values\n",
    "y = target.values\n",
    "\n",
    "print(f\"multi features value:\\n{x_multi[:5]}\")\n",
    "print(f\"y-value:\\n{y[:5]}\")"
   ]
  },
  {
   "cell_type": "markdown",
   "metadata": {},
   "source": [
    "### *Normalize data to be in a range(0, 1)*"
   ]
  },
  {
   "cell_type": "code",
   "execution_count": 31,
   "metadata": {},
   "outputs": [
    {
     "name": "stdout",
     "output_type": "stream",
     "text": [
      "x_mult_scaled:\n",
      "[[0.26037736 0.2625     0.22222222 0.28947368 0.        ]\n",
      " [0.26037736 0.2625     0.22222222 0.28947368 0.        ]\n",
      " [0.34339623 0.44166667 0.16666667 0.26315789 0.        ]\n",
      " [0.18113208 0.225      0.30555556 0.36842105 0.        ]\n",
      " [0.28301887 0.27916667 0.13888889 0.15789474 0.        ]]\n",
      "y_scaled:\n",
      "[[0.20795889]\n",
      " [0.28255797]\n",
      " [0.28255797]\n",
      " [0.21925426]\n",
      " [0.3061417 ]]\n"
     ]
    }
   ],
   "source": [
    "x_multi_min = x_multi.min(axis=0)\n",
    "x_multi_max = x_multi.max(axis=0)\n",
    "y_min = y.min()\n",
    "y_max = y.max()\n",
    "\n",
    "x_multi_scaled = (x_multi - x_multi_min) / (x_multi_max - x_multi_min)\n",
    "y_scaled = (y - y_min) / (y_max - y_min)\n",
    "\n",
    "y_scaled = y_scaled.reshape(-1, 1)\n",
    "\n",
    "print(f\"x_mult_scaled:\\n{x_multi_scaled[:5]}\")\n",
    "print(f\"y_scaled:\\n{y_scaled[:5]}\")"
   ]
  },
  {
   "cell_type": "markdown",
   "metadata": {},
   "source": [
    "### *Add bias column*\n",
    "Because in an original matrix we only have the data of each features without bias.<br>\n",
    "So, to retrieve bias value from calculaions, we will add column of 1s to our matrix"
   ]
  },
  {
   "cell_type": "code",
   "execution_count": 32,
   "metadata": {},
   "outputs": [
    {
     "name": "stdout",
     "output_type": "stream",
     "text": [
      "x_mult_scaled:\n",
      "[[1.         0.26037736 0.2625     0.22222222 0.28947368 0.        ]\n",
      " [1.         0.26037736 0.2625     0.22222222 0.28947368 0.        ]\n",
      " [1.         0.34339623 0.44166667 0.16666667 0.26315789 0.        ]\n",
      " [1.         0.18113208 0.225      0.30555556 0.36842105 0.        ]\n",
      " [1.         0.28301887 0.27916667 0.13888889 0.15789474 0.        ]]\n"
     ]
    }
   ],
   "source": [
    "x_multi_scaled = np.hstack((np.ones((x_multi_scaled.shape[0], 1)), x_multi_scaled)) # Add bias column\n",
    "print(f\"x_mult_scaled:\\n{x_multi_scaled[:5]}\")"
   ]
  },
  {
   "cell_type": "markdown",
   "metadata": {},
   "source": [
    "### *Initilize coefficient as a column vector of 0*"
   ]
  },
  {
   "cell_type": "code",
   "execution_count": 33,
   "metadata": {},
   "outputs": [
    {
     "name": "stdout",
     "output_type": "stream",
     "text": [
      "coeffs:\n",
      "[[0.]\n",
      " [0.]\n",
      " [0.]\n",
      " [0.]\n",
      " [0.]\n",
      " [0.]]\n"
     ]
    }
   ],
   "source": [
    "coeffs = np.zeros((x_multi_scaled.shape[1], 1))\n",
    "print(f\"coeffs:\\n{coeffs}\")"
   ]
  },
  {
   "cell_type": "markdown",
   "metadata": {},
   "source": [
    "### *Gradient Descent Algorithm*"
   ]
  },
  {
   "cell_type": "code",
   "execution_count": 34,
   "metadata": {},
   "outputs": [
    {
     "name": "stdout",
     "output_type": "stream",
     "text": [
      "Iterations: 6172\n",
      "Final coeffs values: [ 0.00361309  0.67063853  0.34586128 -0.0862507  -0.07513138  0.09951328]\n"
     ]
    }
   ],
   "source": [
    "learning_rate = 0.1\n",
    "eps = 1e-9\n",
    "epochs = 10000\n",
    "samples = len(x_multi_scaled)\n",
    "error_history_multi_f = []\n",
    "it = 0\n",
    "for _ in range(epochs):\n",
    "    prediction = np.dot(x_multi_scaled, coeffs)\n",
    "    error = prediction - y_scaled\n",
    "    gradient = (1/samples) * np.dot(x_multi_scaled.T, error) # how off is the features on average\n",
    "    coeffs -= learning_rate * gradient # Update coeffs using that gradient\n",
    "\n",
    "    mean_error = float(np.mean(error**2))\n",
    "    error_history_multi_f.append(mean_error)\n",
    "    it += 1\n",
    "    if abs(error_history_multi_f[_] - error_history_multi_f[_-1]) < eps and _ > 2:\n",
    "        break\n",
    "\n",
    "coeffs = coeffs.flatten()\n",
    "print(f\"Iterations: {it}\")\n",
    "print(\"Final coeffs values:\", coeffs)\n",
    "# error_history_multi_f[:5]"
   ]
  },
  {
   "cell_type": "markdown",
   "metadata": {},
   "source": [
    "### *Convert coefficients and bias back to the original scale*"
   ]
  },
  {
   "cell_type": "code",
   "execution_count": 35,
   "metadata": {},
   "outputs": [
    {
     "name": "stdout",
     "output_type": "stream",
     "text": [
      "Coeffs from gradient descent: [ 101.94211857   58.04993434  -96.50974088  -79.64322176 4008.5938959 ]\n",
      "Bias from gradient descent: -1212.4055129841681\n"
     ]
    }
   ],
   "source": [
    "true_coeffs = coeffs[1:] * (y_max - y_min) / (x_multi_max - x_multi_min)\n",
    "true_bias = y_min + (y_max - y_min) * (coeffs[0] - np.sum((coeffs[1:] * x_multi_min) / (x_multi_max - x_multi_min)))\n",
    "\n",
    "print(\"Coeffs from gradient descent:\", true_coeffs)\n",
    "print(\"Bias from gradient descent:\", true_bias)"
   ]
  },
  {
   "cell_type": "markdown",
   "metadata": {},
   "source": [
    "### *Measure performance*"
   ]
  },
  {
   "cell_type": "code",
   "execution_count": 36,
   "metadata": {},
   "outputs": [
    {
     "name": "stdout",
     "output_type": "stream",
     "text": [
      "R-squared (R2): 0.815\n",
      "MSE: 11748617.470\n"
     ]
    }
   ],
   "source": [
    "y_pred = np.dot(x_multi, true_coeffs) + true_bias\n",
    "MSE = np.mean((y - y_pred) ** 2)\n",
    "R2 = 1 - (np.sum((y - y_pred) ** 2) / np.sum((y - np.mean(y)) ** 2))\n",
    "MSEs.append(MSE)\n",
    "R2s.append(R2)\n",
    "\n",
    "print(f\"R-squared (R2): {R2:.3f}\")\n",
    "print(f\"MSE: {MSE:.3f}\")"
   ]
  },
  {
   "cell_type": "code",
   "execution_count": 37,
   "metadata": {},
   "outputs": [
    {
     "name": "stdout",
     "output_type": "stream",
     "text": [
      "Performance:\n"
     ]
    },
    {
     "data": {
      "text/html": [
       "<div>\n",
       "<style scoped>\n",
       "    .dataframe tbody tr th:only-of-type {\n",
       "        vertical-align: middle;\n",
       "    }\n",
       "\n",
       "    .dataframe tbody tr th {\n",
       "        vertical-align: top;\n",
       "    }\n",
       "\n",
       "    .dataframe thead th {\n",
       "        text-align: right;\n",
       "    }\n",
       "</style>\n",
       "<table border=\"1\" class=\"dataframe\">\n",
       "  <thead>\n",
       "    <tr style=\"text-align: right;\">\n",
       "      <th></th>\n",
       "      <th></th>\n",
       "      <th>enginesize</th>\n",
       "      <th>horsepower</th>\n",
       "      <th>citympg</th>\n",
       "      <th>highwaympg</th>\n",
       "      <th>fueltype</th>\n",
       "      <th>mix</th>\n",
       "    </tr>\n",
       "  </thead>\n",
       "  <tbody>\n",
       "    <tr>\n",
       "      <th>0</th>\n",
       "      <td>R2</td>\n",
       "      <td>0.764</td>\n",
       "      <td>0.653</td>\n",
       "      <td>0.470</td>\n",
       "      <td>0.487</td>\n",
       "      <td>0.011</td>\n",
       "      <td>0.815</td>\n",
       "    </tr>\n",
       "    <tr>\n",
       "      <th>1</th>\n",
       "      <td>MSE</td>\n",
       "      <td>14980261.406</td>\n",
       "      <td>22032509.702</td>\n",
       "      <td>33644342.550</td>\n",
       "      <td>32603432.049</td>\n",
       "      <td>62801141.647</td>\n",
       "      <td>11748617.470</td>\n",
       "    </tr>\n",
       "  </tbody>\n",
       "</table>\n",
       "</div>"
      ],
      "text/plain": [
       "          enginesize    horsepower       citympg    highwaympg      fueltype  \\\n",
       "0   R2         0.764         0.653         0.470         0.487         0.011   \n",
       "1  MSE  14980261.406  22032509.702  33644342.550  32603432.049  62801141.647   \n",
       "\n",
       "            mix  \n",
       "0         0.815  \n",
       "1  11748617.470  "
      ]
     },
     "execution_count": 37,
     "metadata": {},
     "output_type": "execute_result"
    }
   ],
   "source": [
    "columns = [''] + [feature for feature in features] + ['mix']\n",
    "row_1 = [\"R2\"] + [f\"{R2:.3f}\" for R2 in R2s]\n",
    "row_2 = [\"MSE\"] + [f\"{MSE:.3f}\" for MSE in MSEs]\n",
    "df = pd.DataFrame([row_1, row_2], columns=columns)\n",
    "print(\"Performance:\")\n",
    "df.head()"
   ]
  },
  {
   "cell_type": "code",
   "execution_count": 38,
   "metadata": {},
   "outputs": [
    {
     "data": {
      "image/png": "[encoded data removed]",
      "text/plain": [
       "<Figure size 640x480 with 1 Axes>"
      ]
     },
     "metadata": {},
     "output_type": "display_data"
    }
   ],
   "source": [
    "x_p = np.arange(len(error_history_multi_f))\n",
    "plt.plot(x_p, error_history_multi_f, label=\"error of mix features\")\n",
    "plt.xlabel(\"iterations\")\n",
    "plt.ylabel(\"error\")\n",
    "plt.yscale(\"log\")\n",
    "plt.legend()\n",
    "plt.grid(True)\n",
    "plt.show()"
   ]
  }
 ],
 "metadata": {
  "kernelspec": {
   "display_name": "Python 3",
   "language": "python",
   "name": "python3"
  },
  "language_info": {
   "codemirror_mode": {
    "name": "ipython",
    "version": 3
   },
   "file_extension": ".py",
   "mimetype": "text/x-python",
   "name": "python",
   "nbconvert_exporter": "python",
   "pygments_lexer": "ipython3",
   "version": "3.12.3"
  }
 },
 "nbformat": 4,
 "nbformat_minor": 2
}
